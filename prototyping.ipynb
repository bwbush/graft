{
 "cells": [
  {
   "cell_type": "code",
   "execution_count": 7,
   "metadata": {},
   "outputs": [],
   "source": [
    "import Data.Map.Strict (Map)\n",
    "import Data.Set (Set)\n",
    "\n",
    "import qualified Data.Map.Strict as M\n",
    "import qualified Data.Set as S"
   ]
  },
  {
   "cell_type": "code",
   "execution_count": 9,
   "metadata": {},
   "outputs": [],
   "source": [
    "data Graph v e =\n",
    "  Graph\n",
    "  {\n",
    "    vertices      :: Set v\n",
    "  , edges         :: Set e\n",
    "  , incomingEdges :: Map v (Set e)\n",
    "  , outgoingEdges :: Map v (Set e)\n",
    "  }\n",
    "    deriving (Eq, Ord, Read, Show)"
   ]
  },
  {
   "cell_type": "code",
   "execution_count": null,
   "metadata": {
    "collapsed": true
   },
   "outputs": [],
   "source": []
  }
 ],
 "metadata": {
  "kernelspec": {
   "display_name": "Haskell",
   "language": "haskell",
   "name": "haskell"
  },
  "language_info": {
   "codemirror_mode": "ihaskell",
   "file_extension": ".hs",
   "name": "haskell",
   "version": "8.0.2"
  }
 },
 "nbformat": 4,
 "nbformat_minor": 2
}
