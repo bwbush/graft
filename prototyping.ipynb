{
 "cells": [
  {
   "cell_type": "code",
   "execution_count": 1,
   "metadata": {
    "collapsed": true
   },
   "outputs": [],
   "source": [
    "{-# LANGUAGE RecordWildCards #-}"
   ]
  },
  {
   "cell_type": "code",
   "execution_count": 2,
   "metadata": {},
   "outputs": [],
   "source": [
    "import Data.Function (on)\n",
    "import Data.Map.Strict (Map)\n",
    "import Data.Monoid (Monoid(..))\n",
    "import Data.Set (Set)\n",
    "\n",
    "import qualified Data.Map.Strict as M\n",
    "import qualified Data.Set as S"
   ]
  },
  {
   "cell_type": "code",
   "execution_count": 3,
   "metadata": {},
   "outputs": [],
   "source": [
    "data Graph v e =\n",
    "  Graph\n",
    "  {\n",
    "    allVertices   :: Set v\n",
    "  , allEdges      :: Set e\n",
    "  , incomingEdges :: Map v (Set (v, e))\n",
    "  , outgoingEdges :: Map v (Set (v, e))\n",
    "  }\n",
    "    deriving (Eq, Ord, Read, Show)"
   ]
  },
  {
   "cell_type": "code",
   "execution_count": 4,
   "metadata": {},
   "outputs": [],
   "source": [
    "instance (Ord v, Ord e) => Monoid (Graph v e) where\n",
    "  mempty =\n",
    "    Graph\n",
    "    {\n",
    "      allVertices   = S.empty\n",
    "    , allEdges      = S.empty\n",
    "    , incomingEdges = M.empty\n",
    "    , outgoingEdges = M.empty\n",
    "    }\n",
    "  mappend x y =\n",
    "    Graph\n",
    "    {\n",
    "      allVertices   = on S.union allVertices x y\n",
    "    , allEdges      = on S.union allEdges x y\n",
    "    , incomingEdges = on (M.unionWith S.union) incomingEdges x y\n",
    "    , outgoingEdges = on (M.unionWith S.union) outgoingEdges x y\n",
    "    }"
   ]
  },
  {
   "cell_type": "code",
   "execution_count": 5,
   "metadata": {},
   "outputs": [],
   "source": [
    "data LabeledWeight l w =\n",
    "  LabeledWeight\n",
    "  {\n",
    "    label  :: l\n",
    "  , weight :: w\n",
    "  }\n",
    "    deriving (Eq, Ord, Read, Show)"
   ]
  },
  {
   "cell_type": "code",
   "execution_count": 6,
   "metadata": {
    "collapsed": true
   },
   "outputs": [],
   "source": [
    "data Vertex a =\n",
    "    SuperSource\n",
    "  | SuperSink\n",
    "  | Vertex a\n",
    "    deriving (Eq, Ord, Read, Show)"
   ]
  },
  {
   "cell_type": "code",
   "execution_count": 7,
   "metadata": {
    "collapsed": true
   },
   "outputs": [],
   "source": [
    "data Edge a =\n",
    "    Edge a\n",
    "  | ReversedEdge a\n",
    "    deriving (Eq, Ord, Read, Show)"
   ]
  },
  {
   "cell_type": "code",
   "execution_count": 12,
   "metadata": {},
   "outputs": [],
   "source": [
    "addEdge :: (Ord v, Ord e) => Graph v e -> (v, v, e) -> Graph v e\n",
    "addEdge Graph{..} (from, to, edge) =\n",
    "  Graph\n",
    "  {\n",
    "    allVertices   = S.insert from $ S.insert to allVertices\n",
    "  , allEdges      = S.insert edge allEdges\n",
    "  , incomingEdges = M.insertWith S.union to   (S.singleton edge) incomingEdges\n",
    "  , outgoingEdges = M.insertWith S.union from (S.singleton edge) outgoingEdges\n",
    "  }"
   ]
  },
  {
   "cell_type": "code",
   "execution_count": 14,
   "metadata": {},
   "outputs": [],
   "source": [
    "makeGraph :: (Ord v, Ord e) => [(v, v, e)] -> Graph v e\n",
    "makeGraph = foldl addEdge mempty"
   ]
  },
  {
   "cell_type": "code",
   "execution_count": null,
   "metadata": {
    "collapsed": true
   },
   "outputs": [],
   "source": []
  }
 ],
 "metadata": {
  "kernelspec": {
   "display_name": "Haskell",
   "language": "haskell",
   "name": "haskell"
  },
  "language_info": {
   "codemirror_mode": "ihaskell",
   "file_extension": ".hs",
   "name": "haskell",
   "version": "8.0.2"
  }
 },
 "nbformat": 4,
 "nbformat_minor": 2
}
